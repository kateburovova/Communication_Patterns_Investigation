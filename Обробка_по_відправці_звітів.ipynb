{
  "nbformat": 4,
  "nbformat_minor": 0,
  "metadata": {
    "colab": {
      "provenance": [],
      "authorship_tag": "ABX9TyMelMt5b94TlboS65pu+ddj",
      "include_colab_link": true
    },
    "kernelspec": {
      "name": "python3",
      "display_name": "Python 3"
    },
    "language_info": {
      "name": "python"
    }
  },
  "cells": [
    {
      "cell_type": "markdown",
      "metadata": {
        "id": "view-in-github",
        "colab_type": "text"
      },
      "source": [
        "<a href=\"https://colab.research.google.com/github/kateburovova/Communication_Patterns_Investigation/blob/mainbranch/%D0%9E%D0%B1%D1%80%D0%BE%D0%B1%D0%BA%D0%B0_%D0%BF%D0%BE_%D0%B2%D1%96%D0%B4%D0%BF%D1%80%D0%B0%D0%B2%D1%86%D1%96_%D0%B7%D0%B2%D1%96%D1%82%D1%96%D0%B2.ipynb\" target=\"_parent\"><img src=\"https://colab.research.google.com/assets/colab-badge.svg\" alt=\"Open In Colab\"/></a>"
      ]
    },
    {
      "cell_type": "code",
      "execution_count": null,
      "metadata": {
        "id": "Ov1_itJoy5xr"
      },
      "outputs": [],
      "source": []
    }
  ]
}